{
  "nbformat": 4,
  "nbformat_minor": 0,
  "metadata": {
    "colab": {
      "provenance": []
    },
    "kernelspec": {
      "name": "python3",
      "display_name": "Python 3"
    },
    "language_info": {
      "name": "python"
    }
  },
  "cells": [
    {
      "cell_type": "code",
      "source": [
        "\n",
        "url = \"https://www.youtube.com/watch?si=nDZbZWIEhE2wXHfU&v=vGX1XXPu9Lc&feature=youtu.be\"  # 유튜브 URL 입력\n",
        "\n"
      ],
      "metadata": {
        "id": "vFL5QNfo3NrV"
      },
      "execution_count": 12,
      "outputs": []
    },
    {
      "cell_type": "code",
      "source": [
        "!pip install yt_dlp"
      ],
      "metadata": {
        "id": "z4T_UvSSS6me"
      },
      "execution_count": 14,
      "outputs": []
    },
    {
      "cell_type": "code",
      "source": [
        "import yt_dlp\n",
        "import os\n",
        "from google.colab import files\n",
        "\n",
        "\n",
        "class YTDownloader:\n",
        "    @staticmethod\n",
        "    def download_video(video_url: str, file_type: str = \"mp3\") -> str:\n",
        "        options = {\n",
        "            \"mp3\": {\n",
        "                \"format\": \"bestaudio/best\",\n",
        "                \"postprocessors\": [{\n",
        "                    \"key\": \"FFmpegExtractAudio\",\n",
        "                    \"preferredcodec\": \"mp3\",\n",
        "                    \"preferredquality\": \"192\"\n",
        "                    }],\n",
        "                \"ffmpeg_location\": \"/usr/bin/ffmpeg\",\n",
        "                \"outtmpl\": \"%(title)s.%(ext)s\"\n",
        "                    },\n",
        "            \"mp4\": {\n",
        "                \"format\": \"bestvideo+bestaudio/best\",\n",
        "                \"ffmpeg_location\": \"/usr/bin/ffmpeg\",\n",
        "                \"outtmpl\": \"%(title)s.%(ext)s\"\n",
        "                }\n",
        "            }\n",
        "\n",
        "        try:\n",
        "            with yt_dlp.YoutubeDL(options[file_type]) as ydl:\n",
        "                result = ydl.extract_info(video_url, download=True)\n",
        "                file_name = ydl.prepare_filename(result).replace(\".webm\", f\".{file_type}\")\n",
        "                return file_name\n",
        "        except Exception as e:\n",
        "            print(f\"Error: {e}\")\n",
        "            return None\n",
        "\n",
        "\n",
        "\n",
        "def down(url:str, file_type: str = \"mp3\"):\n",
        "    ytd = YTDownloader()\n",
        "    file_name = ytd.download_video(url, file_type)\n",
        "    if file_name:\n",
        "        files.download(file_name)\n",
        "        return file_name\n",
        "    else:\n",
        "        return None\n"
      ],
      "metadata": {
        "id": "QM4YWR7JhKrK"
      },
      "execution_count": 11,
      "outputs": []
    },
    {
      "cell_type": "code",
      "source": [
        "down(url)"
      ],
      "metadata": {
        "id": "gF0gLuWU6Rh_"
      },
      "execution_count": 15,
      "outputs": []
    }
  ]
}